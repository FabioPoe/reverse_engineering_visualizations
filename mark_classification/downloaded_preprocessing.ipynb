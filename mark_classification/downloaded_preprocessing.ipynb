{
 "cells": [
  {
   "cell_type": "code",
   "execution_count": 1,
   "id": "cb17de9e-aa59-4a98-9953-e6df8b58bbf5",
   "metadata": {},
   "outputs": [],
   "source": [
    "# preprocessing the images to make training faster"
   ]
  },
  {
   "cell_type": "code",
   "execution_count": 1,
   "id": "c98b7b36-eee3-4491-9b0f-22517af6df54",
   "metadata": {},
   "outputs": [],
   "source": [
    "import skimage\n",
    "import numpy as np\n",
    "import os\n",
    "from tqdm import tqdm\n",
    "import h5py\n",
    "from icecream import ic\n",
    "import matplotlib.pyplot as plt"
   ]
  },
  {
   "cell_type": "code",
   "execution_count": 5,
   "id": "adf91c7f",
   "metadata": {},
   "outputs": [],
   "source": [
    "def preprocessing(image_path, shape):\n",
    "    # opens the image\n",
    "    img = skimage.io.imread(image_path)\n",
    "\n",
    "    #converts it to grayscale if needed\n",
    "    if len(img.shape) == 3:\n",
    "        #reshape image to 1d\n",
    "        if img.shape[2] == 4:\n",
    "            img = skimage.color.rgba2rgb(img)\n",
    "        #if img.shape[2] == 3:\n",
    "            #img = skimage.color.rgb2gray(img)\n",
    "    else:\n",
    "        img = np.dstack([img,img,img])\n",
    "    \n",
    "    # expands the image to a square shape\n",
    "    height, width = img.shape[0],img.shape[1]\n",
    "    if width == height:\n",
    "        pass\n",
    "    elif width > height:\n",
    "        missing = int((width - height) / 2)\n",
    "        img = np.pad(img, ((missing, missing), (0, 0),(0, 0)))\n",
    "    else:\n",
    "        missing = int((height - width) / 2)\n",
    "        img = np.pad(img, ((0, 0), (missing, missing),(0, 0)))\n",
    "\n",
    "    # resizes the image to shape x shape\n",
    "    img = skimage.transform.resize(img, (shape, shape), anti_aliasing=True)\n",
    "\n",
    "    return np.array(img)"
   ]
  },
  {
   "cell_type": "markdown",
   "id": "c32bad77",
   "metadata": {},
   "source": [
    "# the dataset i used for the mark classifier"
   ]
  },
  {
   "cell_type": "code",
   "execution_count": 16,
   "id": "d21f1759",
   "metadata": {},
   "outputs": [
    {
     "name": "stderr",
     "output_type": "stream",
     "text": [
      "100%|██████████| 4/4 [00:00<00:00,  7.56it/s]\n"
     ]
    },
    {
     "data": {
      "text/plain": [
       "1496"
      ]
     },
     "execution_count": 16,
     "metadata": {},
     "output_type": "execute_result"
    }
   ],
   "source": [
    "#calculating the amount of valid samples i have\n",
    "n_samples = 0\n",
    "for file in tqdm(os.listdir(os.path.join(\"data\",\"the_cleanest_data\"))):\n",
    "        for f in os.listdir(os.path.join(\"data\",\"the_cleanest_data\", file)):\n",
    "            n_samples += 1\n",
    "n_samples"
   ]
  },
  {
   "cell_type": "code",
   "execution_count": 17,
   "id": "a085c6a3",
   "metadata": {},
   "outputs": [
    {
     "name": "stdout",
     "output_type": "stream",
     "text": [
      "0\n"
     ]
    },
    {
     "name": "stderr",
     "output_type": "stream",
     "text": [
      "100%|██████████| 153/153 [01:38<00:00,  1.55it/s]\n"
     ]
    },
    {
     "name": "stdout",
     "output_type": "stream",
     "text": [
      "1\n"
     ]
    },
    {
     "name": "stderr",
     "output_type": "stream",
     "text": [
      "100%|██████████| 501/501 [05:27<00:00,  1.53it/s]\n"
     ]
    },
    {
     "name": "stdout",
     "output_type": "stream",
     "text": [
      "2\n"
     ]
    },
    {
     "name": "stderr",
     "output_type": "stream",
     "text": [
      "100%|██████████| 550/550 [05:46<00:00,  1.59it/s]\n"
     ]
    },
    {
     "name": "stdout",
     "output_type": "stream",
     "text": [
      "3\n"
     ]
    },
    {
     "name": "stderr",
     "output_type": "stream",
     "text": [
      "100%|██████████| 292/292 [03:02<00:00,  1.60it/s]\n",
      "ic| len(trainset): 1198, len(testset): 298\n"
     ]
    },
    {
     "data": {
      "text/plain": [
       "(1198, 298)"
      ]
     },
     "execution_count": 17,
     "metadata": {},
     "output_type": "execute_result"
    }
   ],
   "source": [
    "#creating indices for the sets\n",
    "shuffled_indices = np.random.permutation(n_samples)\n",
    "testset_inds = shuffled_indices[:int(n_samples / 10)*2]\n",
    "trainingset_inds = shuffled_indices[int(n_samples / 10) * 2:]\n",
    "\n",
    "#going through all files, preprocess it and put it in the right set\n",
    "testset = []\n",
    "trainset = []\n",
    "x = 0\n",
    "num = 0 #num is basically a index which goes over every sample\n",
    "output_size = 2**10\n",
    "\n",
    "\n",
    "#this loop looks at the scraped examples\n",
    "for i, file in enumerate(os.listdir(os.path.join(\"data\",\"the_cleanest_data\"))):\n",
    "    print(i)\n",
    "    for f in tqdm(os.listdir(os.path.join(\"data\",\"the_cleanest_data\", file))):\n",
    "        image_path = os.path.join(\"data\",\"the_cleanest_data\", file,f)\n",
    "        preprocessed_img = preprocessing(image_path,output_size)\n",
    "\n",
    "        if file == \"Bar\":\n",
    "            label = 0\n",
    "        if file == \"Line\":\n",
    "            label = 1\n",
    "        if file == \"Point\":\n",
    "            label = 2\n",
    "        if file == \"Area\":\n",
    "            label = 3\n",
    "\n",
    "        #converting the image to int8 to save memory\n",
    "        uint = (preprocessed_img*255).astype(np.uint8)\n",
    "\n",
    "        flat_img = np.array(uint.flatten(), dtype=np.uint8)\n",
    "        flat_label = np.array([label],dtype=np.uint8)\n",
    "        img_label = np.concatenate([flat_img, flat_label],dtype=np.uint8)\n",
    "\n",
    "        if num in testset_inds:\n",
    "            testset.append(img_label)\n",
    "        elif num in trainingset_inds:\n",
    "            trainset.append(img_label)\n",
    "\n",
    "        num+=1\n",
    "\n",
    "\n",
    "\n",
    "ic(len(trainset),len(testset))"
   ]
  },
  {
   "cell_type": "code",
   "execution_count": 5,
   "id": "98a9343a",
   "metadata": {},
   "outputs": [
    {
     "name": "stderr",
     "output_type": "stream",
     "text": [
      "100%|██████████| 153/153 [00:00<?, ?it/s]\n",
      "100%|██████████| 501/501 [00:00<00:00, 502594.19it/s]\n",
      "100%|██████████| 550/550 [00:00<00:00, 550302.29it/s]\n",
      "100%|██████████| 292/292 [00:00<00:00, 291881.98it/s]\n",
      "ic| bar: 501, line: 550, point: 292, area: 153\n"
     ]
    },
    {
     "data": {
      "text/plain": [
       "(501, 550, 292, 153)"
      ]
     },
     "execution_count": 5,
     "metadata": {},
     "output_type": "execute_result"
    }
   ],
   "source": [
    "#looking at the balance of the data\n",
    "bar = 0\n",
    "line = 0\n",
    "point = 0\n",
    "area = 0\n",
    "for i, file in enumerate(os.listdir(os.path.join(\"data\",\"the_cleanest_data\"))):\n",
    "    for f in tqdm(os.listdir(os.path.join(\"data\",\"the_cleanest_data\", file))):\n",
    "\n",
    "        if file == \"Bar\":\n",
    "            label = 0\n",
    "            bar +=1\n",
    "        if file == \"Line\":\n",
    "            label = 1\n",
    "            line  +=1\n",
    "        if file == \"Point\":\n",
    "            label = 2\n",
    "            point  +=1\n",
    "        if file == \"Area\":\n",
    "            label = 3\n",
    "            area  +=1\n",
    "\n",
    "       \n",
    "\n",
    "\n",
    "\n",
    "ic(bar,line,point,area)"
   ]
  },
  {
   "cell_type": "code",
   "execution_count": 18,
   "id": "734c3459",
   "metadata": {},
   "outputs": [
    {
     "name": "stdout",
     "output_type": "stream",
     "text": [
      "everything completed\n"
     ]
    }
   ],
   "source": [
    "#saving the dataset\n",
    "train_arrays = np.array(trainset, dtype=np.uint8)\n",
    "test_arrays = np.array(testset, dtype=np.uint8)\n",
    "with h5py.File(r\"data\\1024_4labels_clean.h5py\",\"w\") as f:\n",
    "    f.create_dataset(r\"testset\", data=test_arrays)\n",
    "    f.create_dataset(r\"trainset\", data=train_arrays)\n",
    "print(\"everything completed\")"
   ]
  },
  {
   "cell_type": "code",
   "execution_count": null,
   "id": "275c8e9a",
   "metadata": {},
   "outputs": [],
   "source": []
  },
  {
   "cell_type": "code",
   "execution_count": null,
   "id": "7b6edcf3",
   "metadata": {},
   "outputs": [],
   "source": []
  }
 ],
 "metadata": {
  "kernelspec": {
   "display_name": "Python 3 (ipykernel)",
   "language": "python",
   "name": "python3"
  },
  "language_info": {
   "codemirror_mode": {
    "name": "ipython",
    "version": 3
   },
   "file_extension": ".py",
   "mimetype": "text/x-python",
   "name": "python",
   "nbconvert_exporter": "python",
   "pygments_lexer": "ipython3",
   "version": "3.8.12"
  }
 },
 "nbformat": 4,
 "nbformat_minor": 5
}
